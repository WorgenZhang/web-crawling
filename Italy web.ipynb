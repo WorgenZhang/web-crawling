{
 "cells": [
  {
   "cell_type": "markdown",
   "metadata": {
    "deletable": true,
    "editable": true
   },
   "source": [
    "# Crawling mautrally\n",
    "\n",
    "from web site\n",
    "http://www.consob.it/mainen/intermediares/financial_salesman/historical_register.htm. get all people information in each region. "
   ]
  },
  {
   "cell_type": "code",
   "execution_count": 1,
   "metadata": {
    "collapsed": false,
    "deletable": true,
    "editable": true,
    "scrolled": true
   },
   "outputs": [],
   "source": [
    "import pandas as pd\n",
    "import requests\n",
    "from bs4 import BeautifulSoup\n",
    "import re"
   ]
  },
  {
   "cell_type": "markdown",
   "metadata": {
    "deletable": true,
    "editable": true
   },
   "source": [
    "## Get all region list"
   ]
  },
  {
   "cell_type": "code",
   "execution_count": 2,
   "metadata": {
    "collapsed": true,
    "deletable": true,
    "editable": true
   },
   "outputs": [],
   "source": [
    "url = 'http://www.consob.it/mainen/intermediares/financial_salesman/historical_register.htm'\n",
    "html = requests.get(url).text"
   ]
  },
  {
   "cell_type": "code",
   "execution_count": 3,
   "metadata": {
    "collapsed": true,
    "deletable": true,
    "editable": true
   },
   "outputs": [],
   "source": [
    "bs = BeautifulSoup(html,'lxml')"
   ]
  },
  {
   "cell_type": "code",
   "execution_count": 4,
   "metadata": {
    "collapsed": false,
    "deletable": true,
    "editable": true
   },
   "outputs": [],
   "source": [
    "articles = []\n",
    "for href in bs.findAll(href=re.compile(r'xsl$')):\n",
    "    articles.append(href.get('href'))"
   ]
  },
  {
   "cell_type": "markdown",
   "metadata": {
    "collapsed": true,
    "deletable": true,
    "editable": true
   },
   "source": [
    "## Visit all links and crawl table\n",
    "\n",
    "example: http://www.consob.it/documenti/promotori/albo/basilicata.xml?xsl=albopromotorien.xsl"
   ]
  },
  {
   "cell_type": "code",
   "execution_count": 5,
   "metadata": {
    "collapsed": false,
    "deletable": true,
    "editable": true
   },
   "outputs": [],
   "source": [
    "root = 'http://www.consob.it'"
   ]
  },
  {
   "cell_type": "code",
   "execution_count": 6,
   "metadata": {
    "collapsed": false,
    "deletable": true,
    "editable": true
   },
   "outputs": [],
   "source": [
    "testurl = root+articles[1]\n",
    "testhtml = requests.get(testurl).text"
   ]
  },
  {
   "cell_type": "markdown",
   "metadata": {},
   "source": [
    "parse table, first loop rows, then loop column."
   ]
  },
  {
   "cell_type": "code",
   "execution_count": 13,
   "metadata": {
    "collapsed": true,
    "deletable": true,
    "editable": true
   },
   "outputs": [],
   "source": [
    "# get html table mauraly\n",
    "def get_table(html):\n",
    "    testbs = BeautifulSoup(html,'lxml')\n",
    "    table = testbs.find('table')\n",
    "    rows=list()\n",
    "    for row in table.findAll(\"tr\"):\n",
    "       rows.append(row)\n",
    "    result = list()\n",
    "    i=0\n",
    "    for line in rows:\n",
    "        td = line.findAll('td')\n",
    "        if re.findall('^[A-Z]',td[0].text):\n",
    "            result.append((i//6,td[0].text,td[1].text.replace('\\n','')))\n",
    "            i+=1\n",
    "    df = pd.DataFrame(result)\n",
    "    df_p = df.pivot(index=0, columns=1, values=2)\n",
    "    return df_p.reset_index(drop = True)"
   ]
  },
  {
   "cell_type": "code",
   "execution_count": 15,
   "metadata": {
    "collapsed": false,
    "deletable": true,
    "editable": true
   },
   "outputs": [
    {
     "name": "stdout",
     "output_type": "stream",
     "text": [
      "/documenti/promotori/albo/abruzzo.xml?xsl=albopromotorien.xsl ...ok\n",
      "/documenti/promotori/albo/basilicata.xml?xsl=albopromotorien.xsl ...ok\n"
     ]
    }
   ],
   "source": [
    "df_fi = pd.DataFrame()\n",
    "for uri in articles[:2]:\n",
    "    print (uri,'...',end='')\n",
    "    url = root+uri\n",
    "    html = requests.get(url).text\n",
    "    df = get_table(html)\n",
    "    df_fi = pd.concat([df_fi,df],ignore_index=True)\n",
    "    print ('ok')"
   ]
  },
  {
   "cell_type": "code",
   "execution_count": 16,
   "metadata": {
    "collapsed": false,
    "deletable": true,
    "editable": true
   },
   "outputs": [
    {
     "data": {
      "text/html": [
       "<div>\n",
       "<table border=\"1\" class=\"dataframe\">\n",
       "  <thead>\n",
       "    <tr style=\"text-align: right;\">\n",
       "      <th>1</th>\n",
       "      <th>Address:</th>\n",
       "      <th>Date of birth:</th>\n",
       "      <th>Intermediary:</th>\n",
       "      <th>Place of birth:</th>\n",
       "      <th>Subscrition resolution:</th>\n",
       "      <th>Surname:</th>\n",
       "    </tr>\n",
       "  </thead>\n",
       "  <tbody>\n",
       "    <tr>\n",
       "      <th>0</th>\n",
       "      <td>Via Nuova Per Pianola 4 - 67042 Pianola (TE)</td>\n",
       "      <td>23/05/1966</td>\n",
       "      <td>ALLIANZ BANK FINANCIAL ADVISORS SPA</td>\n",
       "      <td>L'aquila (AQ)</td>\n",
       "      <td>11357 since 28/04/1998</td>\n",
       "      <td>ABBONIZIO Antonello</td>\n",
       "    </tr>\n",
       "    <tr>\n",
       "      <th>1</th>\n",
       "      <td>Via 403 Da Denominare 33 - 65129 Pescara (PE)</td>\n",
       "      <td>23/04/1966</td>\n",
       "      <td></td>\n",
       "      <td>Plochingen (GERMANIA)</td>\n",
       "      <td>16425 since 08/04/2008</td>\n",
       "      <td>ABBONIZIO Corina</td>\n",
       "    </tr>\n",
       "    <tr>\n",
       "      <th>2</th>\n",
       "      <td>Via Colle Manpioppo N. 5 - 65027 Scafa (PE)</td>\n",
       "      <td>26/01/1970</td>\n",
       "      <td>ALLIANZ BANK FINANCIAL ADVISORS SPA</td>\n",
       "      <td>Pescara (PE)</td>\n",
       "      <td>14728 since 05/10/2004</td>\n",
       "      <td>ACETO Guerino</td>\n",
       "    </tr>\n",
       "    <tr>\n",
       "      <th>3</th>\n",
       "      <td>Via Marco Polo N.59 - 66054 Vasto (CH)</td>\n",
       "      <td>03/03/1963</td>\n",
       "      <td>FINECOBANK BANCA FINECO SPA</td>\n",
       "      <td>Larino (CB)</td>\n",
       "      <td>8997 since 17/01/1995</td>\n",
       "      <td>ADDONA Tommaso</td>\n",
       "    </tr>\n",
       "    <tr>\n",
       "      <th>4</th>\n",
       "      <td>Via A Di Vestea C.da Fiumicino - 64100 Teramo ...</td>\n",
       "      <td>03/03/1958</td>\n",
       "      <td></td>\n",
       "      <td>Civitella Del Tronto (TE)</td>\n",
       "      <td>5929 since 21/01/1992</td>\n",
       "      <td>AGOSTINELLI Giacomo</td>\n",
       "    </tr>\n",
       "  </tbody>\n",
       "</table>\n",
       "</div>"
      ],
      "text/plain": [
       "1                                          Address:  Date of birth:   \\\n",
       "0       Via Nuova Per Pianola 4 - 67042 Pianola (TE)      23/05/1966   \n",
       "1      Via 403 Da Denominare 33 - 65129 Pescara (PE)      23/04/1966   \n",
       "2        Via Colle Manpioppo N. 5 - 65027 Scafa (PE)      26/01/1970   \n",
       "3             Via Marco Polo N.59 - 66054 Vasto (CH)      03/03/1963   \n",
       "4  Via A Di Vestea C.da Fiumicino - 64100 Teramo ...      03/03/1958   \n",
       "\n",
       "1                       Intermediary:            Place of birth:   \\\n",
       "0  ALLIANZ BANK FINANCIAL ADVISORS SPA              L'aquila (AQ)   \n",
       "1                                           Plochingen (GERMANIA)   \n",
       "2  ALLIANZ BANK FINANCIAL ADVISORS SPA               Pescara (PE)   \n",
       "3          FINECOBANK BANCA FINECO SPA                Larino (CB)   \n",
       "4                                       Civitella Del Tronto (TE)   \n",
       "\n",
       "1 Subscrition resolution:             Surname:   \n",
       "0   11357 since 28/04/1998  ABBONIZIO Antonello  \n",
       "1   16425 since 08/04/2008     ABBONIZIO Corina  \n",
       "2   14728 since 05/10/2004        ACETO Guerino  \n",
       "3    8997 since 17/01/1995       ADDONA Tommaso  \n",
       "4    5929 since 21/01/1992  AGOSTINELLI Giacomo  "
      ]
     },
     "execution_count": 16,
     "metadata": {},
     "output_type": "execute_result"
    }
   ],
   "source": [
    "df_fi.head()"
   ]
  }
 ],
 "metadata": {
  "kernelspec": {
   "display_name": "Python 3",
   "language": "python",
   "name": "python3"
  },
  "language_info": {
   "codemirror_mode": {
    "name": "ipython",
    "version": 3
   },
   "file_extension": ".py",
   "mimetype": "text/x-python",
   "name": "python",
   "nbconvert_exporter": "python",
   "pygments_lexer": "ipython3",
   "version": "3.5.2"
  }
 },
 "nbformat": 4,
 "nbformat_minor": 2
}
