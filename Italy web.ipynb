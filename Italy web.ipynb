{
 "cells": [
  {
   "cell_type": "code",
   "execution_count": 1,
   "metadata": {
    "collapsed": true
   },
   "outputs": [],
   "source": [
    "import pandas as pd\n",
    "import requests\n",
    "from bs4 import BeautifulSoup\n",
    "import re"
   ]
  },
  {
   "cell_type": "code",
   "execution_count": 2,
   "metadata": {
    "collapsed": true
   },
   "outputs": [],
   "source": [
    "url = 'http://www.consob.it/mainen/intermediares/financial_salesman/historical_register.htm'\n",
    "html = requests.get(url).text"
   ]
  },
  {
   "cell_type": "code",
   "execution_count": 3,
   "metadata": {
    "collapsed": true
   },
   "outputs": [],
   "source": [
    "bs = BeautifulSoup(html,'lxml')"
   ]
  },
  {
   "cell_type": "code",
   "execution_count": 4,
   "metadata": {
    "collapsed": false
   },
   "outputs": [],
   "source": [
    "articles = []\n",
    "for href in bs.findAll(href=re.compile(r'xsl$')):\n",
    "    articles.append(href.get('href'))"
   ]
  },
  {
   "cell_type": "code",
   "execution_count": 5,
   "metadata": {
    "collapsed": false
   },
   "outputs": [],
   "source": [
    "root = 'http://www.consob.it'"
   ]
  },
  {
   "cell_type": "code",
   "execution_count": 102,
   "metadata": {
    "collapsed": false
   },
   "outputs": [],
   "source": [
    "testurl = root+articles[1]\n",
    "testhtml = requests.get(testurl).text"
   ]
  },
  {
   "cell_type": "code",
   "execution_count": 100,
   "metadata": {
    "collapsed": true
   },
   "outputs": [],
   "source": [
    "# get html table mauraly, worth 500$ \n",
    "def get_table(html):\n",
    "    testbs = BeautifulSoup(html,'lxml')\n",
    "    table = testbs.find('table')\n",
    "    rows=list()\n",
    "    for row in table.findAll(\"tr\"):\n",
    "       rows.append(row)\n",
    "    result = list()\n",
    "    i=0\n",
    "    for line in rows:\n",
    "        td = line.findAll('td')\n",
    "        if re.findall('^[A-Z]',td[0].text):\n",
    "            result.append((i/6,td[0].text,td[1].text.replace('\\n','')))\n",
    "            i+=1\n",
    "    df = pd.DataFrame(result)\n",
    "    df_p = df.pivot(index=0, columns=1, values=2)\n",
    "    return df_p.reset_index(drop = True)"
   ]
  },
  {
   "cell_type": "code",
   "execution_count": 110,
   "metadata": {
    "collapsed": false
   },
   "outputs": [
    {
     "name": "stdout",
     "output_type": "stream",
     "text": [
      "/documenti/promotori/albo/abruzzo.xml?xsl=albopromotorien.xsl ... ok\n",
      "/documenti/promotori/albo/basilicata.xml?xsl=albopromotorien.xsl ... ok\n",
      "/documenti/promotori/albo/calabria.xml?xsl=albopromotorien.xsl ... ok\n",
      "/documenti/promotori/albo/campania.xml?xsl=albopromotorien.xsl ... ok\n",
      "/documenti/promotori/albo/emilia.xml?xsl=albopromotorien.xsl ... ok\n"
     ]
    }
   ],
   "source": [
    "df_fi = pd.DataFrame()\n",
    "for uri in articles[:5]:\n",
    "    print uri,'...',\n",
    "    url = root+uri\n",
    "    html = requests.get(url).text\n",
    "    df = get_table(html)\n",
    "    df_fi = pd.concat([df_fi,df],ignore_index=True)\n",
    "    print 'ok'"
   ]
  },
  {
   "cell_type": "code",
   "execution_count": null,
   "metadata": {
    "collapsed": true
   },
   "outputs": [],
   "source": []
  }
 ],
 "metadata": {
  "kernelspec": {
   "display_name": "Python 2",
   "language": "python",
   "name": "python2"
  },
  "language_info": {
   "codemirror_mode": {
    "name": "ipython",
    "version": 2
   },
   "file_extension": ".py",
   "mimetype": "text/x-python",
   "name": "python",
   "nbconvert_exporter": "python",
   "pygments_lexer": "ipython2",
   "version": "2.7.12"
  }
 },
 "nbformat": 4,
 "nbformat_minor": 2
}
