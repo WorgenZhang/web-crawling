{
 "cells": [
  {
   "cell_type": "code",
   "execution_count": null,
   "metadata": {
    "collapsed": true
   },
   "outputs": [],
   "source": [
    "import json\n",
    "import requests\n",
    "import pandas as pd"
   ]
  },
  {
   "cell_type": "code",
   "execution_count": null,
   "metadata": {
    "collapsed": true
   },
   "outputs": [],
   "source": [
    "li = open('hk.txt','r').read().split('\\n')[:-1]"
   ]
  },
  {
   "cell_type": "code",
   "execution_count": null,
   "metadata": {
    "collapsed": true
   },
   "outputs": [],
   "source": [
    "url = \"http://www.sfc.hk/publicregWeb/searchByNameJson\"\n",
    "para = {'licstatus':'active',\n",
    "'searchbyoption':'byname',\n",
    "'searchlang':'en',\n",
    "'entityType':'individual',\n",
    "'searchtext':''}\n",
    "df_all = pd.DataFrame([])"
   ]
  },
  {
   "cell_type": "code",
   "execution_count": null,
   "metadata": {
    "collapsed": false
   },
   "outputs": [],
   "source": [
    "for name in li[:3]:\n",
    "    para['searchtext'] = name\n",
    "    print name,\"....\",\n",
    "    req = requests.post(url,data=para)\n",
    "    dic = json.loads(req.text)['items']\n",
    "    if dic:\n",
    "        df = pd.DataFrame(dic)\n",
    "        df = df.assign(oname = name)\n",
    "        df_all = pd.concat([df_all,df])\n",
    "    print 'ok'"
   ]
  },
  {
   "cell_type": "code",
   "execution_count": null,
   "metadata": {
    "collapsed": true
   },
   "outputs": [],
   "source": [
    "#export df all"
   ]
  }
 ],
 "metadata": {
  "kernelspec": {
   "display_name": "Python 2",
   "language": "python",
   "name": "python2"
  },
  "language_info": {
   "codemirror_mode": {
    "name": "ipython",
    "version": 2
   },
   "file_extension": ".py",
   "mimetype": "text/x-python",
   "name": "python",
   "nbconvert_exporter": "python",
   "pygments_lexer": "ipython2",
   "version": "2.7.12"
  }
 },
 "nbformat": 4,
 "nbformat_minor": 2
}
