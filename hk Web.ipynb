{
 "cells": [
  {
   "cell_type": "markdown",
   "metadata": {
    "deletable": true,
    "editable": true
   },
   "source": [
    "# Problem\n",
    "Search the website. \n",
    "http://www.sfc.hk/publicregWeb/searchByName\n",
    "\n",
    "Input name and get the table returned by website\n",
    "\n",
    "## Sample names\n",
    "\n",
    "`Kuen Leung\n",
    "Jansen Leung\n",
    "David Wong\n",
    "Kit Wong Fu\n",
    "Raymond Choi`"
   ]
  },
  {
   "cell_type": "code",
   "execution_count": 1,
   "metadata": {
    "collapsed": true,
    "deletable": true,
    "editable": true
   },
   "outputs": [],
   "source": [
    "import json\n",
    "import requests\n",
    "import pandas as pd"
   ]
  },
  {
   "cell_type": "code",
   "execution_count": 2,
   "metadata": {
    "collapsed": true,
    "deletable": true,
    "editable": true
   },
   "outputs": [],
   "source": [
    "li = ['Kuen Leung','Jansen Leung','David Wong','Kit Wong Fu','Raymond Choi']"
   ]
  },
  {
   "cell_type": "markdown",
   "metadata": {
    "deletable": true,
    "editable": true
   },
   "source": [
    "find the api, use **POST** method."
   ]
  },
  {
   "cell_type": "code",
   "execution_count": 3,
   "metadata": {
    "collapsed": true,
    "deletable": true,
    "editable": true
   },
   "outputs": [],
   "source": [
    "url = \"http://www.sfc.hk/publicregWeb/searchByNameJson\"\n",
    "para = {'licstatus':'active',\n",
    "'searchbyoption':'byname',\n",
    "'searchlang':'en',\n",
    "'entityType':'individual',\n",
    "'searchtext':''}\n",
    "df_all = pd.DataFrame([])"
   ]
  },
  {
   "cell_type": "code",
   "execution_count": 4,
   "metadata": {
    "collapsed": false,
    "deletable": true,
    "editable": true
   },
   "outputs": [
    {
     "name": "stdout",
     "output_type": "stream",
     "text": [
      "Kuen Leung ....ok\n",
      "Jansen Leung ....ok\n",
      "David Wong ....ok\n"
     ]
    }
   ],
   "source": [
    "for name in li[:3]:\n",
    "    para['searchtext'] = name\n",
    "    print (name,\"....\",end='')\n",
    "    req = requests.post(url,data=para)\n",
    "    dic = json.loads(req.text)['items']\n",
    "    if dic:\n",
    "        df = pd.DataFrame(dic)\n",
    "        df = df.assign(oname = name)\n",
    "        df_all = pd.concat([df_all,df])\n",
    "    print ('ok')"
   ]
  },
  {
   "cell_type": "code",
   "execution_count": 5,
   "metadata": {
    "collapsed": false,
    "deletable": true,
    "editable": true
   },
   "outputs": [
    {
     "data": {
      "text/html": [
       "<div>\n",
       "<table border=\"1\" class=\"dataframe\">\n",
       "  <thead>\n",
       "    <tr style=\"text-align: right;\">\n",
       "      <th></th>\n",
       "      <th>address</th>\n",
       "      <th>ceref</th>\n",
       "      <th>entityType</th>\n",
       "      <th>hasActiveLicence</th>\n",
       "      <th>isActiveEo</th>\n",
       "      <th>isCorp</th>\n",
       "      <th>isEo</th>\n",
       "      <th>isIndi</th>\n",
       "      <th>isRi</th>\n",
       "      <th>name</th>\n",
       "      <th>nameChi</th>\n",
       "      <th>oname</th>\n",
       "    </tr>\n",
       "  </thead>\n",
       "  <tbody>\n",
       "    <tr>\n",
       "      <th>0</th>\n",
       "      <td>None</td>\n",
       "      <td>ATM775</td>\n",
       "      <td>None</td>\n",
       "      <td>Y</td>\n",
       "      <td>N</td>\n",
       "      <td>False</td>\n",
       "      <td>False</td>\n",
       "      <td>True</td>\n",
       "      <td>False</td>\n",
       "      <td>LEUNG Hon Kuen</td>\n",
       "      <td>梁漢權</td>\n",
       "      <td>Kuen Leung</td>\n",
       "    </tr>\n",
       "    <tr>\n",
       "      <th>1</th>\n",
       "      <td>None</td>\n",
       "      <td>AAD236</td>\n",
       "      <td>None</td>\n",
       "      <td>Y</td>\n",
       "      <td>N</td>\n",
       "      <td>False</td>\n",
       "      <td>False</td>\n",
       "      <td>True</td>\n",
       "      <td>False</td>\n",
       "      <td>LEUNG Wai Kuen</td>\n",
       "      <td>梁偉權</td>\n",
       "      <td>Kuen Leung</td>\n",
       "    </tr>\n",
       "    <tr>\n",
       "      <th>2</th>\n",
       "      <td>None</td>\n",
       "      <td>BIB355</td>\n",
       "      <td>None</td>\n",
       "      <td>Y</td>\n",
       "      <td>N</td>\n",
       "      <td>False</td>\n",
       "      <td>False</td>\n",
       "      <td>True</td>\n",
       "      <td>False</td>\n",
       "      <td>LEUNG Cheuk Kuen</td>\n",
       "      <td>梁焯權</td>\n",
       "      <td>Kuen Leung</td>\n",
       "    </tr>\n",
       "    <tr>\n",
       "      <th>3</th>\n",
       "      <td>None</td>\n",
       "      <td>AAE681</td>\n",
       "      <td>None</td>\n",
       "      <td>Y</td>\n",
       "      <td>N</td>\n",
       "      <td>False</td>\n",
       "      <td>False</td>\n",
       "      <td>True</td>\n",
       "      <td>False</td>\n",
       "      <td>LEUNG Lai Kuen, Jessica</td>\n",
       "      <td>梁麗娟</td>\n",
       "      <td>Kuen Leung</td>\n",
       "    </tr>\n",
       "    <tr>\n",
       "      <th>4</th>\n",
       "      <td>None</td>\n",
       "      <td>ADC294</td>\n",
       "      <td>None</td>\n",
       "      <td>Y</td>\n",
       "      <td>N</td>\n",
       "      <td>False</td>\n",
       "      <td>False</td>\n",
       "      <td>True</td>\n",
       "      <td>False</td>\n",
       "      <td>LEUNG Mei Kuen, Dannise</td>\n",
       "      <td>梁美娟</td>\n",
       "      <td>Kuen Leung</td>\n",
       "    </tr>\n",
       "  </tbody>\n",
       "</table>\n",
       "</div>"
      ],
      "text/plain": [
       "  address   ceref entityType hasActiveLicence isActiveEo isCorp   isEo isIndi  \\\n",
       "0    None  ATM775       None                Y          N  False  False   True   \n",
       "1    None  AAD236       None                Y          N  False  False   True   \n",
       "2    None  BIB355       None                Y          N  False  False   True   \n",
       "3    None  AAE681       None                Y          N  False  False   True   \n",
       "4    None  ADC294       None                Y          N  False  False   True   \n",
       "\n",
       "    isRi                     name nameChi       oname  \n",
       "0  False           LEUNG Hon Kuen     梁漢權  Kuen Leung  \n",
       "1  False           LEUNG Wai Kuen     梁偉權  Kuen Leung  \n",
       "2  False         LEUNG Cheuk Kuen     梁焯權  Kuen Leung  \n",
       "3  False  LEUNG Lai Kuen, Jessica     梁麗娟  Kuen Leung  \n",
       "4  False  LEUNG Mei Kuen, Dannise     梁美娟  Kuen Leung  "
      ]
     },
     "execution_count": 5,
     "metadata": {},
     "output_type": "execute_result"
    }
   ],
   "source": [
    "df_all.head()"
   ]
  },
  {
   "cell_type": "code",
   "execution_count": null,
   "metadata": {
    "collapsed": true,
    "deletable": true,
    "editable": true
   },
   "outputs": [],
   "source": []
  }
 ],
 "metadata": {
  "kernelspec": {
   "display_name": "Python 3",
   "language": "python",
   "name": "python3"
  },
  "language_info": {
   "codemirror_mode": {
    "name": "ipython",
    "version": 3
   },
   "file_extension": ".py",
   "mimetype": "text/x-python",
   "name": "python",
   "nbconvert_exporter": "python",
   "pygments_lexer": "ipython3",
   "version": "3.5.2"
  }
 },
 "nbformat": 4,
 "nbformat_minor": 2
}
